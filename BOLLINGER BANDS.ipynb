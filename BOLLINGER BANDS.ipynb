{
 "cells": [
  {
   "cell_type": "code",
   "execution_count": null,
   "id": "6c96bf19",
   "metadata": {},
   "outputs": [],
   "source": [
    "def calculate_bollinger_bands(data, BBANDS_window, STDDEV_factor):\n",
    "\n",
    "    weights = np.arange(1, BBANDS_window + 1)\n",
    "    weights_sum = np.sum(weights)\n",
    "    middle_band = np.convolve(data['close'], weights[::-1], mode='valid') / weights_sum\n",
    "    middle_band = np.pad(middle_band, (len(data) - len(middle_band), 0), 'constant', constant_values=np.nan)\n",
    "    data['MiddleBand'] = middle_band\n",
    "\n",
    "\n",
    "    deviations = data['close'] - data['MiddleBand']\n",
    "\n",
    "\n",
    "    squared_deviations = deviations ** 2\n",
    "    sum_squared_deviations = np.convolve(squared_deviations, np.ones(BBANDS_window), mode='valid')\n",
    "    std = np.sqrt(sum_squared_deviations / (BBANDS_window - 1))\n",
    "    std = np.pad(std, (len(data) - len(std), 0), 'constant', constant_values=np.nan)\n",
    "    data['Std'] = std\n",
    "    data['UpperBand'] = data['MiddleBand'] + STDDEV_factor * data['Std']\n",
    "    data['LowerBand'] = data['MiddleBand'] - STDDEV_factor * data['Std']\n",
    "\n",
    "    return data    "
   ]
  },
  {
   "cell_type": "code",
   "execution_count": null,
   "id": "a82e7329",
   "metadata": {},
   "outputs": [],
   "source": []
  }
 ],
 "metadata": {
  "kernelspec": {
   "display_name": "Python 3 (ipykernel)",
   "language": "python",
   "name": "python3"
  },
  "language_info": {
   "codemirror_mode": {
    "name": "ipython",
    "version": 3
   },
   "file_extension": ".py",
   "mimetype": "text/x-python",
   "name": "python",
   "nbconvert_exporter": "python",
   "pygments_lexer": "ipython3",
   "version": "3.11.9"
  }
 },
 "nbformat": 4,
 "nbformat_minor": 5
}
