{
 "cells": [
  {
   "cell_type": "code",
   "execution_count": null,
   "id": "c3a4bbba",
   "metadata": {},
   "outputs": [],
   "source": [
    "from ta.momentum import RSIIndicator\n",
    "def strategy_4(data):\n",
    "    def calculate_mcginley_dynamic(df, n):\n",
    "        df['MD_4'] = df['close'].copy()\n",
    "        for i in range(1, len(df)):\n",
    "            close = df['close'].iloc[i]\n",
    "            md_previous = df['MD_4'].iloc[i - 1]\n",
    "            md = md_previous + (close - md_previous) / (n * (close / md_previous) ** 4)\n",
    "            df.at[i, 'MD_4'] = md\n",
    "        return df['MD_4']\n",
    "\n",
    "    def rsi(df, period=16):\n",
    "        indicator = RSIIndicator(close=df['close'], window=period)\n",
    "        df['rsi_4'] = indicator.rsi()\n",
    "        return df\n",
    "\n",
    "    data = rsi(data)\n",
    "\n",
    "    # Calculate ATR and ADX\n",
    "    data['atr_4'] = ta.ATR(high=data['high'], low=data['low'], close=data['close'], timeperiod=16)\n",
    "    data['ADX_4'] = ta.ADX(high=data['high'], low=data['low'], close=data['close'], timeperiod=14)\n",
    "\n",
    "    data['MD_4'] = calculate_mcginley_dynamic(data, 14)\n",
    "    data['macd_4'] = calculate_mcginley_dynamic(data, 12) - calculate_mcginley_dynamic(data, 26)\n",
    "    data['signal_macd_4'] = data['macd_4'].ewm(span=7, adjust=False).mean()\n",
    "\n",
    "    data['IBS_4'] = (data['close'] - data['low']) / (data['high'] - data['low'])\n",
    "    data['w_4'] = data['IBS_4'].ewm(span=5, adjust=False).mean()\n",
    "\n",
    "    def find_IRB(data):\n",
    "        IRB = []\n",
    "        for i in range(len(data)):\n",
    "            if data['high'].iloc[i] - max(data['close'].iloc[i], data['open'].iloc[i]) < 0.55 * (data['high'].iloc[i] - data['low'].iloc[i]):\n",
    "                IRB.append('IRB_UP')\n",
    "            elif min(data['close'].iloc[i], data['open'].iloc[i]) - data['low'].iloc[i] > 0.55 * (data['high'].iloc[i] - data['low'].iloc[i]):\n",
    "                IRB.append('IRB_DOWN')\n",
    "            else:\n",
    "                IRB.append('No Signal')\n",
    "        data['IRB_4'] = IRB\n",
    "        return data\n",
    "\n",
    "    data = find_IRB(data)\n",
    "\n",
    "    data['signals'] = 0\n",
    "\n",
    "    for i in range(1, len(data)):\n",
    "        if data['macd_4'].iloc[i] > data['signal_macd_4'].iloc[i] and data['ADX_4'].iloc[i] > 60:\n",
    "            data['signals'].iloc[i] = 1\n",
    "        elif data['macd_4'].iloc[i] < data['signal_macd_4'].iloc[i] and data['ADX_4'].iloc[i] > 60:\n",
    "            data['signals'].iloc[i] = -1\n",
    "\n",
    "    bt = Backtest(data=data)\n",
    "    bt.backtest()\n",
    "    x = bt.result()\n",
    "\n",
    "    return x"
   ]
  },
  {
   "cell_type": "code",
   "execution_count": null,
   "id": "03379a99",
   "metadata": {},
   "outputs": [],
   "source": []
  }
 ],
 "metadata": {
  "kernelspec": {
   "display_name": "Python 3 (ipykernel)",
   "language": "python",
   "name": "python3"
  },
  "language_info": {
   "codemirror_mode": {
    "name": "ipython",
    "version": 3
   },
   "file_extension": ".py",
   "mimetype": "text/x-python",
   "name": "python",
   "nbconvert_exporter": "python",
   "pygments_lexer": "ipython3",
   "version": "3.11.9"
  }
 },
 "nbformat": 4,
 "nbformat_minor": 5
}
