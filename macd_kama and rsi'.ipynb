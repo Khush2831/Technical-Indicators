{
 "cells": [
  {
   "cell_type": "code",
   "execution_count": null,
   "id": "87e2bbe3",
   "metadata": {},
   "outputs": [],
   "source": [
    "def strategy_5(data):\n",
    "    n = 26\n",
    "    \n",
    "    data['ma_5'] = data['close'].rolling(window=10).mean()\n",
    "    data['Change_5'] = abs(data['close'] - data['close'].shift(10))\n",
    "    data['Volatility_5'] = abs(data['close'] - data['close'].shift()).rolling(n).sum()\n",
    "    data['ER_5'] = data['Change_5'] / data['Volatility_5']\n",
    "    data['SC_5'] = np.square(data['ER_5'] * (2.0 / (2 + 1) - 2.0 / (30 + 1)) + 2.0 / (30 + 1))\n",
    "    \n",
    "    data['KAMA_5'] = data['close'].rolling(n).mean()\n",
    "    data['KAMA_5'][:n] = np.nan\n",
    "\n",
    "    i = 1\n",
    "    while i < len(data['KAMA_5'][n+1:]):\n",
    "        s = data['KAMA_5']\n",
    "        s.iloc[n + i] = data['KAMA_5'][n + i - 1] + data['SC_5'][n + i] * (data['close'][n + i] - data['KAMA_5'][n + i - 1])\n",
    "        data['KAMA_5'] = s\n",
    "        i += 1\n",
    "\n",
    "    data = data.drop(['Change_5', 'Volatility_5', 'ER_5', 'SC_5'], axis=1)\n",
    "    data['MACD_KAMA_5'] = data['KAMA_5'].ewm(span=12, adjust=False).mean() - data['KAMA_5'].ewm(span=26, adjust=False).mean()\n",
    "    data['signal_line_5'] = data['MACD_KAMA_5'].rolling(window=9).mean()\n",
    "\n",
    "    def rsi(data, period=14):\n",
    "        data['rsi_5'] = ta.RSI(data['close'], period)\n",
    "        return data\n",
    "    \n",
    "    data = rsi(data)\n",
    "    data['signals'] = 0\n",
    "    flag = 0\n",
    "    for i in range(len(data)):\n",
    "        if data.MACD_KAMA_5[i] > data.signal_line_5[i] and data.rsi_5[i] > 70:\n",
    "            data.signals[i] = 1\n",
    "            flag = 1\n",
    "        elif data.MACD_KAMA_5[i] < data.signal_line_5[i] and data.rsi_5[i] < 30:\n",
    "            data.signals[i] = -1\n",
    "            flag = 0\n",
    "\n",
    "    return data\n"
   ]
  },
  {
   "cell_type": "code",
   "execution_count": null,
   "id": "3b928002",
   "metadata": {},
   "outputs": [],
   "source": []
  }
 ],
 "metadata": {
  "kernelspec": {
   "display_name": "Python 3 (ipykernel)",
   "language": "python",
   "name": "python3"
  },
  "language_info": {
   "codemirror_mode": {
    "name": "ipython",
    "version": 3
   },
   "file_extension": ".py",
   "mimetype": "text/x-python",
   "name": "python",
   "nbconvert_exporter": "python",
   "pygments_lexer": "ipython3",
   "version": "3.11.9"
  }
 },
 "nbformat": 4,
 "nbformat_minor": 5
}
