{
 "cells": [
  {
   "cell_type": "code",
   "execution_count": null,
   "id": "18251cb0",
   "metadata": {},
   "outputs": [],
   "source": []
  },
  {
   "cell_type": "code",
   "execution_count": null,
   "id": "b4f076a5",
   "metadata": {},
   "outputs": [],
   "source": [
    "def calculate_heiken_ashi(df):\n",
    "        ha_close = (df['open'] + df['high'] + df['low'] + df['close']) / 4\n",
    "        ha_open = (df['open'].shift(1) + df['close'].shift(1)) / 2\n",
    "        ha_high = df[['high', 'open', 'close']].max(axis=1)\n",
    "        ha_low = df[['low', 'open', 'close']].min(axis=1)\n",
    "\n",
    "        df['HA_Close_6'] = ha_close\n",
    "        df['HA_Open_6'] = ha_open\n",
    "        df['HA_High_6'] = ha_high\n",
    "        df['HA_Low_6'] = ha_low\n",
    "        df['HA_Color_6'] = 'green'\n",
    "        df.loc[df['HA_Close_6'] < df['HA_Open_6'], 'HA_Color_6'] = 'red'\n",
    "\n",
    "        return df"
   ]
  }
 ],
 "metadata": {
  "kernelspec": {
   "display_name": "Python 3 (ipykernel)",
   "language": "python",
   "name": "python3"
  },
  "language_info": {
   "codemirror_mode": {
    "name": "ipython",
    "version": 3
   },
   "file_extension": ".py",
   "mimetype": "text/x-python",
   "name": "python",
   "nbconvert_exporter": "python",
   "pygments_lexer": "ipython3",
   "version": "3.11.9"
  }
 },
 "nbformat": 4,
 "nbformat_minor": 5
}
