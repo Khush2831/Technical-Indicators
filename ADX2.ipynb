{
 "cells": [
  {
   "cell_type": "code",
   "execution_count": null,
   "id": "297c43da",
   "metadata": {},
   "outputs": [],
   "source": [
    "import pandas as pd\n",
    "import numpy as np\n",
    "\n",
    "def calculate_true_range(df):\n",
    "    df['prev_close'] = df['close_2'].shift(1)\n",
    "    df['tr1'] = df['high'] - df['low']\n",
    "    df['tr2'] = abs(df['high'] - df['prev_close'])\n",
    "    df['tr3'] = abs(df['low'] - df['prev_close'])\n",
    "    df['TR'] = df[['tr1', 'tr2', 'tr3']].max(axis=1)\n",
    "    return df\n",
    "\n",
    "def calculate_directional_movement(df):\n",
    "    df['+DM'] = np.where((df['high'] - df['high'].shift(1)) > (df['low'].shift(1) - df['low']), \n",
    "                         np.where(df['high'] - df['high'].shift(1) > 0, df['high'] - df['high'].shift(1), 0), 0)\n",
    "    df['-DM'] = np.where((df['low'].shift(1) - df['low']) > (df['high'] - df['high'].shift(1)), \n",
    "                         np.where(df['low'].shift(1) - df['low'] > 0, df['low'].shift(1) - df['low'], 0), 0)\n",
    "    return df\n",
    "\n",
    "def calculate_smoothed_values(df, period):\n",
    "    df['TR_smooth'] = df['TR'].rolling(window=period).mean()\n",
    "    df['+DM_smooth'] = df['+DM'].rolling(window=period).mean()\n",
    "    df['-DM_smooth'] = df['-DM'].rolling(window=period).mean()\n",
    "    return df\n",
    "\n",
    "def calculate_di_adx(df, period, adx_threshold=10, price_action_threshold=0.0001):\n",
    "    df = calculate_true_range(df)\n",
    "    df = calculate_directional_movement(df)\n",
    "    df = calculate_smoothed_values(df, period)\n",
    "\n",
    "    df['+DI'] = 100 * (df['+DM_smooth'] / df['TR_smooth'])\n",
    "    df['-DI'] = 100 * (df['-DM_smooth'] / df['TR_smooth'])\n",
    "    df['DX'] = 100 * abs((df['+DI'] - df['-DI']) / (df['+DI'] + df['-DI']))\n",
    "    df['ADX'] = df['DX'].rolling(window=period).mean()\n",
    "\n",
    "    # Generate signals with further simplified conditions\n",
    "    df['Signal_ADX'] = 0  # Default to no signal\n",
    "    df.loc[\n",
    "        (df['+DI'] > 3*df['-DI']) &\n",
    "        (df['ADX'] > 3*adx_threshold),\n",
    "        'Signal_ADX'\n",
    "    ] = 0.2  # Buy Signal\n",
    "    df.loc[\n",
    "        (df['-DI'] > 3*df['+DI']) &\n",
    "        (df['ADX'] > 3*adx_threshold),\n",
    "        'Signal_ADX'\n",
    "    ] = -0.2  # Sell Signal\n",
    "\n",
    "    return df\n",
    "\n",
    "\n",
    "df = calculate_di_adx(df, period=40)\n",
    "print(df[['+DI', '-DI', 'ADX', 'Signal_ADX']].head())\n"
   ]
  },
  {
   "cell_type": "code",
   "execution_count": null,
   "id": "354600e1",
   "metadata": {},
   "outputs": [],
   "source": []
  }
 ],
 "metadata": {
  "kernelspec": {
   "display_name": "Python 3 (ipykernel)",
   "language": "python",
   "name": "python3"
  },
  "language_info": {
   "codemirror_mode": {
    "name": "ipython",
    "version": 3
   },
   "file_extension": ".py",
   "mimetype": "text/x-python",
   "name": "python",
   "nbconvert_exporter": "python",
   "pygments_lexer": "ipython3",
   "version": "3.11.9"
  }
 },
 "nbformat": 4,
 "nbformat_minor": 5
}
