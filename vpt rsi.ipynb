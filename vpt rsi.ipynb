{
 "cells": [
  {
   "cell_type": "code",
   "execution_count": null,
   "id": "0d522900",
   "metadata": {},
   "outputs": [],
   "source": [
    "def calculate_vpt_8(df, price_column='close'):\n",
    "    df['Price_Change_8'] = df[price_column].pct_change()\n",
    "    df['VPT_8'] = (df['Price_Change_8'] * df['volume']).cumsum()\n",
    "    return df\n",
    "\n",
    "def add_signal_line_8(df, window=14):\n",
    "    df['Signal_Line_8'] = df['VPT_8'].rolling(window=window).mean()\n",
    "    return df\n",
    "\n",
    "def add_moving_averages_8(df, short_window=5, long_window=20, price_column='close'):\n",
    "    df['Short_MA_8'] = df[price_column].rolling(window=short_window).mean()\n",
    "    df['Long_MA_8'] = df[price_column].rolling(window=long_window).mean()\n",
    "    return df\n",
    "\n",
    "def add_rsi_8(df, window=14, price_column='close'):\n",
    "    delta = df[price_column].diff()\n",
    "    gain = (delta.where(delta > 0, 0)).rolling(window=window).mean()\n",
    "    loss = (-delta.where(delta < 0, 0)).rolling(window=window).mean()\n",
    "    rs = gain / loss\n",
    "    df['RSI_8'] = 100 - (100 / (1 + rs))\n",
    "    return df\n",
    "\n",
    "def generate_trading_signals_8(df, vpt_threshold=0.005, volume_threshold=1e4, rsi_threshold=50, rsi_diff_threshold=1):\n",
    "    df['signals'] = np.where(\n",
    "        (df['VPT_8'] > df['Signal_Line_8']) &\n",
    "        (df['VPT_8'].diff() > vpt_threshold) &\n",
    "        (df['volume'] > volume_threshold) &\n",
    "        (df['RSI_8'] > rsi_threshold) &\n",
    "        (df['RSI_8'].diff() > rsi_diff_threshold) &\n",
    "        (df['Short_MA_8'] > df['Long_MA_8']),\n",
    "        1,\n",
    "        np.where(\n",
    "            (df['VPT_8'] < df['Signal_Line_8']) &\n",
    "            (df['VPT_8'].diff() < -vpt_threshold) &\n",
    "            (df['volume'] > volume_threshold) &\n",
    "            (df['RSI_8'] < rsi_threshold) &\n",
    "            (df['RSI_8'].diff() < -rsi_diff_threshold) &\n",
    "            (df['Short_MA_8'] < df['Long_MA_8']),\n",
    "            -1,\n",
    "            0\n",
    "        )\n",
    "    )\n",
    "    return df\n",
    "\n",
    "def strategy_8(df, vpt_window=14, signal_window=14, short_window=5, long_window=20, rsi_window=14):\n",
    "    df = calculate_vpt_8(df, price_column='close')\n",
    "    df = add_signal_line_8(df, window=signal_window)\n",
    "    df = add_moving_averages_8(df, short_window=short_window, long_window=long_window, price_column='close')\n",
    "    df = add_rsi_8(df, window=rsi_window, price_column='close')\n",
    "    df = generate_trading_signals_8(df)\n",
    "    \n",
    "    \n",
    "    return df\n"
   ]
  },
  {
   "cell_type": "code",
   "execution_count": null,
   "id": "fd92487f",
   "metadata": {},
   "outputs": [],
   "source": []
  },
  {
   "cell_type": "code",
   "execution_count": null,
   "id": "c9c37c88",
   "metadata": {},
   "outputs": [],
   "source": []
  }
 ],
 "metadata": {
  "kernelspec": {
   "display_name": "Python 3 (ipykernel)",
   "language": "python",
   "name": "python3"
  },
  "language_info": {
   "codemirror_mode": {
    "name": "ipython",
    "version": 3
   },
   "file_extension": ".py",
   "mimetype": "text/x-python",
   "name": "python",
   "nbconvert_exporter": "python",
   "pygments_lexer": "ipython3",
   "version": "3.11.9"
  }
 },
 "nbformat": 4,
 "nbformat_minor": 5
}
