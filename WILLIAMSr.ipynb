{
 "cells": [
  {
   "cell_type": "code",
   "execution_count": null,
   "id": "17e7be25",
   "metadata": {},
   "outputs": [],
   "source": [
    "periods=14\n",
    "def williamsR(high, low, close, time):\n",
    "  highesth=high.rolling(time).max()\n",
    "  lowestl=low.rolling(time).min()\n",
    "\n",
    "  williams=((highesth-close)/(highesth-lowestl))*(-100)\n",
    "\n",
    "  return williams\n",
    "\n",
    "df['wr'] = williamsR(df['high'], df['low'], df['close'], periods)\n",
    "\n",
    "df"
   ]
  },
  {
   "cell_type": "code",
   "execution_count": null,
   "id": "08e488bb",
   "metadata": {},
   "outputs": [],
   "source": []
  }
 ],
 "metadata": {
  "kernelspec": {
   "display_name": "Python 3 (ipykernel)",
   "language": "python",
   "name": "python3"
  },
  "language_info": {
   "codemirror_mode": {
    "name": "ipython",
    "version": 3
   },
   "file_extension": ".py",
   "mimetype": "text/x-python",
   "name": "python",
   "nbconvert_exporter": "python",
   "pygments_lexer": "ipython3",
   "version": "3.11.9"
  }
 },
 "nbformat": 4,
 "nbformat_minor": 5
}
