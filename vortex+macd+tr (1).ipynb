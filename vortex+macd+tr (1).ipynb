{
 "cells": [
  {
   "cell_type": "code",
   "execution_count": null,
   "id": "aaed66ed",
   "metadata": {},
   "outputs": [],
   "source": [
    "def strategy_2(data):\n",
    "    def get_macd(price, slow, fast, smooth):\n",
    "        exp1 = price.ewm(span=fast, adjust=False).mean()\n",
    "        exp2 = price.ewm(span=slow, adjust=False).mean()\n",
    "        macd = pd.DataFrame(exp1 - exp2).rename(columns={'close': 'macd'})\n",
    "        signal = pd.DataFrame(macd.ewm(span=smooth, adjust=False).mean()).rename(columns={'macd': 'signal'})\n",
    "        frames = [macd, signal]\n",
    "        df = pd.concat(frames, join='inner', axis=1)\n",
    "        return df\n",
    "\n",
    "    macd = get_macd(data.close, 26, 12, 9)\n",
    "    data['TR'] = None\n",
    "\n",
    "    for i in range(1, len(data)):\n",
    "        data['TR'][i] = max(abs(data['high'][i] - data['low'][i]), abs(data['high'][i] - data['close'][i-1]), abs(data['low'][i] - data['close'][i-1]))\n",
    "\n",
    "    data['VM+'] = None\n",
    "    data['VM-'] = None\n",
    "\n",
    "    for i in range(1, len(data)):\n",
    "        data['VM+'][i] = abs(data['high'][i] - data['low'][i-1])\n",
    "        data['VM-'][i] = abs(data['low'][i] - data['high'][i-1])\n",
    "\n",
    "    n = 14\n",
    "\n",
    "    data['Sum_TR'] = data['TR'].rolling(window=n).sum()\n",
    "    data['Sum_VM+'] = data['VM+'].rolling(window=n).sum()\n",
    "    data['Sum_VM-'] = data['VM-'].rolling(window=n).sum()\n",
    "\n",
    "    data['VI+'] = data['Sum_VM+'] / data['Sum_TR']\n",
    "    data['VI-'] = data['Sum_VM-'] / data['Sum_TR']\n",
    "\n",
    "    data['signals'] = 0\n",
    "\n",
    "    for i in range(1, len(data)):\n",
    "        if (data['VI+'][i-1] < data['VI-'][i-1] and data['VI+'][i] > data['VI-'][i] and macd['macd'][i] > macd['signal'][i]):\n",
    "            data['signals'][i] = 1\n",
    "        elif (data['VI-'][i] < data['VI+'][i-1] and data['VI+'][i] < data['VI-'][i] and macd['macd'][i] < macd['signal'][i]):\n",
    "            data['signals'][i] = -1\n",
    "            \n",
    "    return data\n"
   ]
  },
  {
   "cell_type": "code",
   "execution_count": null,
   "id": "336cad83",
   "metadata": {},
   "outputs": [],
   "source": []
  }
 ],
 "metadata": {
  "kernelspec": {
   "display_name": "Python 3 (ipykernel)",
   "language": "python",
   "name": "python3"
  },
  "language_info": {
   "codemirror_mode": {
    "name": "ipython",
    "version": 3
   },
   "file_extension": ".py",
   "mimetype": "text/x-python",
   "name": "python",
   "nbconvert_exporter": "python",
   "pygments_lexer": "ipython3",
   "version": "3.11.9"
  }
 },
 "nbformat": 4,
 "nbformat_minor": 5
}
