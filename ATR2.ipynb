{
 "cells": [
  {
   "cell_type": "code",
   "execution_count": null,
   "id": "05eef2e5",
   "metadata": {},
   "outputs": [],
   "source": [
    "def calculate_atr(data: pd.DataFrame, period: int = 14) -> pd.Series:\n",
    "    high_low = data[\"high\"] - data[\"low\"]\n",
    "    high_close = np.abs(data[\"high\"] - data[\"close\"].shift())\n",
    "    low_close = np.abs(data[\"low\"] - data[\"close\"].shift())\n",
    "    true_range = high_low.to_frame(name=\"HL\").join(high_close.to_frame(name=\"HC\")).join(low_close.to_frame(name=\"LC\")).max(axis=1)\n",
    "    atr = true_range.rolling(window=period).mean()\n",
    "    atr = pd.DataFrame(data = atr)\n",
    "    data[\"ATR\"]= atr\n",
    "    return data"
   ]
  },
  {
   "cell_type": "code",
   "execution_count": null,
   "id": "ec2945cc",
   "metadata": {},
   "outputs": [],
   "source": []
  }
 ],
 "metadata": {
  "kernelspec": {
   "display_name": "Python 3 (ipykernel)",
   "language": "python",
   "name": "python3"
  },
  "language_info": {
   "codemirror_mode": {
    "name": "ipython",
    "version": 3
   },
   "file_extension": ".py",
   "mimetype": "text/x-python",
   "name": "python",
   "nbconvert_exporter": "python",
   "pygments_lexer": "ipython3",
   "version": "3.11.9"
  }
 },
 "nbformat": 4,
 "nbformat_minor": 5
}
